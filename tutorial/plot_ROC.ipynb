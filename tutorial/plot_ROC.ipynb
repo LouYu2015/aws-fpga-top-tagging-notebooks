{
 "cells": [
  {
   "cell_type": "code",
   "execution_count": 4,
   "metadata": {},
   "outputs": [],
   "source": [
    "import os,sys\n",
    "\n",
    "if not os.path.exists(\"results/\"):\n",
    "    os.mkdir(\"results/\")\n",
    "results_dir = os.path.expanduser(\"results/\")\n",
    "#from utils import save_results\n",
    "def save_results(results_dir, prefix, accuracy, labels, preds, feats=None):\n",
    "    import numpy as np\n",
    "    \n",
    "    np.save(results_dir + \"/\" + prefix + \"_accuracy.npy\", accuracy)\n",
    "    np.save(results_dir + \"/\" + prefix + \"_labels.npy\", labels)\n",
    "    np.save(results_dir + \"/\" + prefix + \"_preds.npy\", preds)\n",
    "    if feats is not None:\n",
    "        np.save(results_dir + \"/\" + prefix + \"_feats.npy\", feats)\n",
    "        "
   ]
  },
  {
   "cell_type": "code",
   "execution_count": null,
   "metadata": {},
   "outputs": [],
   "source": [
    "save_results(results_dir, 't', accuracy, test_labels, preds_test)\n",
    "save_results(results_dir, 'ft', accuracy_ft, test_labels_ft, preds_test_ft)"
   ]
  },
  {
   "cell_type": "code",
   "execution_count": 6,
   "metadata": {},
   "outputs": [],
   "source": [
    "# imported from utils \n",
    "# utils.py: https://github.com/nhanvtran/MachineLearningNotebooks/blob/nvt/bwcustomweights-validate/project-brainwave/utils.py\n",
    "\n",
    "%matplotlib inline\n",
    "\n",
    "\n",
    "#from utils import plot_results\n",
    "def plot_results(results_dir,plot_label='ROC.pdf'):\n",
    "    import os\n",
    "    import numpy as np\n",
    "    from sklearn import metrics\n",
    "\n",
    "    # Load the labels and results into memory.\n",
    "    accuracy_t     = np.load(results_dir + \"/t_accuracy.npy\")\n",
    "    test_labels_t  = np.load(results_dir + \"/t_labels.npy\")\n",
    "    test_preds_t   = np.load(results_dir +\"/t_preds.npy\")\n",
    "    #accuracy_q     = np.load(results_dir + \"/q_accuracy.npy\")\n",
    "    #test_labels_q  = np.load(results_dir + \"/q_labels.npy\")\n",
    "    #test_preds_q   = np.load(results_dir + \"/q_preds.npy\")\n",
    "    accuracy_ft     = np.load(results_dir + \"/ft_accuracy.npy\")\n",
    "    test_labels_ft = np.load(results_dir + \"/ft_labels.npy\")\n",
    "    test_preds_ft  = np.load(results_dir + \"/ft_preds.npy\")\n",
    "    #accuracy_b     = np.load(results_dir + \"/b_accuracy.npy\")\n",
    "    #test_labels_b = np.load(results_dir + \"/b_labels.npy\")\n",
    "    #test_preds_b  = np.load(results_dir + \"/b_preds.npy\")\n",
    "\n",
    "    new_test_preds_t = np.zeros(test_preds_t.shape)\n",
    "    new_test_preds_t[:,0] = test_preds_t[:,0]/np.sum(test_preds_t,axis=1)\n",
    "    new_test_preds_t[:,1] = test_preds_t[:,1]/np.sum(test_preds_t,axis=1)\n",
    "    test_preds_t = new_test_preds_t\n",
    "\n",
    "    #new_test_preds_q = np.zeros(test_preds_q.shape)\n",
    "    #new_test_preds_q[:,0] = test_preds_q[:,0]/np.sum(test_preds_q,axis=1)\n",
    "    #new_test_preds_q[:,1] = test_preds_q[:,1]/np.sum(test_preds_q,axis=1)\n",
    "    #test_preds_q = new_test_preds_q\n",
    "\n",
    "    new_test_preds_ft = np.zeros(test_preds_ft.shape)\n",
    "    new_test_preds_ft[:,0] = test_preds_ft[:,0]/np.sum(test_preds_ft,axis=1)\n",
    "    new_test_preds_ft[:,1] = test_preds_ft[:,1]/np.sum(test_preds_ft,axis=1)\n",
    "    test_preds_ft = new_test_preds_ft\n",
    "\n",
    "    #new_test_preds_b = np.zeros(test_preds_b.shape)\n",
    "    #new_test_preds_b[:,0] = test_preds_b[:,0]/np.sum(test_preds_b,axis=1)\n",
    "    #new_test_preds_b[:,1] = test_preds_b[:,1]/np.sum(test_preds_b,axis=1)\n",
    "    #test_preds_b = new_test_preds_b\n",
    "    \n",
    "    # Determine the ROC curve for each of the tests. \n",
    "    # [:,0] will convert the labels from one-hot to binary.\n",
    "    fpr_test_t, tpr_test_t, thresholds      = metrics.roc_curve(test_labels_t[:,0],  test_preds_t[:,0])\n",
    "    #fpr_test_q, tpr_test_q, thresholds_q    = metrics.roc_curve(test_labels_q[:,0],  test_preds_q[:,0])\n",
    "    fpr_test_ft, tpr_test_ft, thresholds_ft    = metrics.roc_curve(test_labels_ft[:,0],  test_preds_ft[:,0])\n",
    "    #fpr_test_b, tpr_test_b, thresholds_b    = metrics.roc_curve(test_labels_b[:,0],  test_preds_b[:,0])\n",
    "    \n",
    "    # Use the data we just generated to determine the area under the ROC curve.\n",
    "    # Use the data we just generated to determine the area under the ROC curve.\n",
    "    auc_test_t    = metrics.auc(fpr_test_t, tpr_test_t)\n",
    "    #auc_test_q  = metrics.auc(fpr_test_q, tpr_test_q)\n",
    "    auc_test_ft  = metrics.auc(fpr_test_ft, tpr_test_ft)\n",
    "    #auc_test_b  = metrics.auc(fpr_test_b, tpr_test_b)\n",
    "    \n",
    "    # Find the true positive rate of 30% and 1 over the false positive rate at tpr = 30%.\n",
    "    def find_nearest(array,value):\n",
    "        idx = (np.abs(array-value)).argmin()\n",
    "        return idx\n",
    "\n",
    "    idx_t    = find_nearest(tpr_test_t,0.3)\n",
    "    #idx_q    = find_nearest(tpr_test_q,0.3)\n",
    "    idx_ft   = find_nearest(tpr_test_ft,0.3)\n",
    "    #idx_b    = find_nearest(tpr_test_b,0.3)\n",
    "    \n",
    "    # Plot the ROCs, labeling with the AUCs.\n",
    "    import matplotlib.pyplot as plt\n",
    "    plt.figure(figsize=(7,5))\n",
    "    plt.plot(tpr_test_t, fpr_test_t, label=r'Floating point:  acc. = %.1f%%, AUC = %.1f%%, $1/\\epsilon_{B}$ = %.0f'%(accuracy_t*100, auc_test_t*100., 1./fpr_test_t[idx_t]))\n",
    "    #plt.plot(tpr_test_q, fpr_test_q, linestyle='--', label=r'Quant.: AUC = %.1f%%, acc. = %.1f%%, $1/\\epsilon_{B}$ = %.0f'%(auc_test_q*100., accuracy_q*100, 1./fpr_test_q[idx_q]))\n",
    "    plt.plot(tpr_test_ft, fpr_test_ft, linestyle='-.', label=r'Quant., fine-tune: acc. = %.1f%%, AUC = %.1f%%, $1/\\epsilon_{B}$ = %.0f'%(accuracy_ft*100, auc_test_ft*100.,  1./fpr_test_ft[idx_ft]))\n",
    "    #plt.plot(tpr_test_b, fpr_test_b, linestyle=':',label=r'Brainwave: AUC = %.1f%%, acc. = %.1f%%, $1/\\epsilon_{B}$ = %.0f'%(auc_test_b*100., accuracy_b*100, 1./fpr_test_b[idx_b]))\n",
    "    plt.semilogy()\n",
    "    plt.xlabel(\"Signal efficiency\",fontsize='x-large')\n",
    "    plt.ylabel(\"Background efficiency\",fontsize='x-large')\n",
    "    plt.ylim(0.0001,1)\n",
    "    plt.xlim(0,1)\n",
    "    plt.grid(True)\n",
    "    plt.legend(loc='upper left',fontsize=11.8)\n",
    "    plt.tight_layout()\n",
    "    plt.savefig(results_dir+'/'+plot_label)    \n",
    "    #plt.figure()\n",
    "    #plt.hist(test_preds_t[:,0], weights=test_labels_t[:,0], bins=np.linspace(0, 1, 40), density=True, alpha = 0.7)\n",
    "    #plt.hist(test_preds_t[:,0], weights=test_labels_t[:,1], bins=np.linspace(0, 1, 40), density=True, alpha = 0.7)\n",
    "    #plt.hist(test_preds_q[:,0], weights=test_labels_q[:,0], bins=np.linspace(0, 1, 40), density=True, alpha = 0.7)\n",
    "    #plt.hist(test_preds_q[:,0], weights=test_labels_q[:,1], bins=np.linspace(0, 1, 40), density=True, alpha = 0.7)\n",
    "    #plt.hist(test_preds_ft[:,0], weights=test_labels_ft[:,0], bins=np.linspace(0, 1, 40), density=True, alpha = 0.7)\n",
    "    #plt.hist(test_preds_ft[:,0], weights=test_labels_ft[:,1], bins=np.linspace(0, 1, 40), density=True, alpha = 0.7)\n",
    "    #plt.hist(test_preds_b[:,0], weights=test_labels_b[:,0], bins=np.linspace(0, 1, 40), density=True, alpha = 0.7)\n",
    "    #plt.hist(test_preds_b[:,0], weights=test_labels_b[:,1], bins=np.linspace(0, 1, 40), density=True, alpha = 0.7)\n",
    "\n",
    "    #print (\"Floating Point\", accuracy_t, auc_test_t, tpr_test_t[idx_t], 1./fpr_test_t[idx_t])\n",
    "    #print (\"Quantized     \", accuracy_q, auc_test_q, tpr_test_q[idx_q], 1./fpr_test_q[idx_q])\n",
    "    print (\"Quantized, fine-tuned\", accuracy_ft, auc_test_ft, tpr_test_ft[idx_ft], 1./fpr_test_ft[idx_ft])\n",
    "    #print (\"Brainwave\", accuracy_b, auc_test_b, tpr_test_b[idx_b], 1./fpr_test_b[idx_b])\n",
    "    "
   ]
  },
  {
   "cell_type": "code",
   "execution_count": 7,
   "metadata": {},
   "outputs": [
    {
     "name": "stdout",
     "output_type": "stream",
     "text": [
      "Quantized, fine-tuned 0.9324000000000005 0.9819779463542667 0.30101626016260163 1693.3333333333333\n"
     ]
    },
    {
     "data": {
      "image/png": "[encoded data removed]",
      "text/plain": [
       "<Figure size 504x360 with 1 Axes>"
      ]
     },
     "metadata": {
      "needs_background": "light"
     },
     "output_type": "display_data"
    }
   ],
   "source": [
    "plot_results(results_dir)"
   ]
  },
  {
   "cell_type": "code",
   "execution_count": null,
   "metadata": {},
   "outputs": [],
   "source": []
  }
 ],
 "metadata": {
  "kernelspec": {
   "display_name": "Python 3",
   "language": "python",
   "name": "python3"
  },
  "language_info": {
   "codemirror_mode": {
    "name": "ipython",
    "version": 3
   },
   "file_extension": ".py",
   "mimetype": "text/x-python",
   "name": "python",
   "nbconvert_exporter": "python",
   "pygments_lexer": "ipython3",
   "version": "3.7.5"
  }
 },
 "nbformat": 4,
 "nbformat_minor": 2
}
