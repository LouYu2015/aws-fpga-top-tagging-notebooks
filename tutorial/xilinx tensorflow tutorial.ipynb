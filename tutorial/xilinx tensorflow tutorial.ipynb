{
 "cells": [
  {
   "cell_type": "markdown",
   "metadata": {},
   "source": [
    "# Environment Setup"
   ]
  },
  {
   "cell_type": "markdown",
   "metadata": {},
   "source": [
    "For request of AWS instance, see:    \n",
    "https://github.com/hrzhao76/aws-fpga/blob/master/AWS%20Instructions.ipynb\n"
   ]
  },
  {
   "cell_type": "markdown",
   "metadata": {},
   "source": [
    "Notice:\n",
    "New version(with tensorflow) of Xilinx ML suite has been released. You need to download it first, and then load the image via docker.\n",
    "\n",
    "```bash \n",
    "docker load < xilinx-ml-suite-ubuntu-16.04-xrt-2018.2-tensorflow-1.12.0-mls-1.5.tar.gz\n",
    "```\n",
    "You might need to tag the image after loading. type `docker image ls` to see if the new image has tag and name. Change its REPOSITORY to `xilinx-ml-suite-ubuntu-16.04-xrt-2018.2-tensorflow-1.12.0-mls-1.5`.\n"
   ]
  },
  {
   "cell_type": "markdown",
   "metadata": {},
   "source": [
    "edit docker_run.sh,\n",
    "\n",
    "```\n",
    "#!/usr/bin/env bash\n",
    "\n",
    "############################################################################\n",
    "###############################  Hack For AWS ##############################\n",
    "############################################################################\n",
    "\n",
    "sudo /opt/xilinx/xrt/bin/awssak query # Need to run this before changing permissions\n",
    "\n",
    "setperm () {\n",
    "  sudo chmod g=u $1\n",
    "  sudo chmod a=u $1\n",
    "}\n",
    "setfpgaperm () {\n",
    "  for f in $1/*; do setperm $f; done\n",
    "}\n",
    "for d in /sys/bus/pci/devices/*; do cat $d/class| grep -q \"0x058000\" && setfpgaperm $d;  done\n",
    "setperm /sys/bus/pci/rescan\n",
    "\n",
    "####################################################################################\n",
    "####################################################################################\n",
    "####################################################################################\n",
    "\n",
    "HERE=`dirname $(readlink -f $0)`\n",
    "\n",
    "mkdir -p $HERE/share\n",
    "chmod -R a+rwx $HERE/share\n",
    "\n",
    "xclmgmt_driver=\"$(find /dev -name xclmgmt\\*)\"\n",
    "docker_devices=\"\"\n",
    "echo \"Found xclmgmt driver(s) at ${xclmgmt_driver}\"\n",
    "for i in ${xclmgmt_driver} ;\n",
    "do\n",
    "  docker_devices+=\"--device=$i \"\n",
    "done\n",
    "\n",
    "render_driver=\"$(find /dev/dri -name renderD\\*)\"\n",
    "echo \"Found render driver(s) at ${render_driver}\"\n",
    "for i in ${render_driver} ;\n",
    "do\n",
    "  docker_devices+=\"--device=$i \"\n",
    "done\n",
    "\n",
    "#sudo \\\n",
    "docker run \\\n",
    "  --rm \\\n",
    "  --net=host \\\n",
    "  --privileged=true \\\n",
    "  --log-driver none \\\n",
    "  -it \\\n",
    "  $docker_devices \\\n",
    "  -v $HERE/share:/opt/ml-suite/share \\\n",
    "  -v /opt/xilinx:/opt/xilinx \\\n",
    "  -w /opt/ml-suite \\\n",
    "  xilinx-ml-suite-ubuntu-16.04-xrt-2018.2-tensorflow-1.12.0-mls-1.5\n",
    "  bash\n",
    "```\n",
    "\n",
    "run `./docker_run.sh`"
   ]
  },
  {
   "cell_type": "markdown",
   "metadata": {},
   "source": [
    "# tensorflow inference"
   ]
  },
  {
   "cell_type": "markdown",
   "metadata": {},
   "source": [
    "Official example:     \n",
    "https://github.com/Xilinx/ml-suite/tree/master/examples/tensorflow"
   ]
  },
  {
   "cell_type": "markdown",
   "metadata": {},
   "source": [
    "The official example is using inception_v1, if you want to test ResNet_50, after the \"One time setup\", use the command below: \n",
    "\n",
    "1. One time setup\n",
    "2. Quantize for inference\n",
    "\n",
    "``` bash\n",
    "python run.py --quantize --model /opt/models/tensorflow/resnet50_baseline.pb --output_dir work --input_nodes data --output_nodes prob --input_shapes ?,224,224,3\n",
    "```\n",
    "\n",
    "3. Partition, Compile, and Run Inference\n",
    "``` bash\n",
    "python run.py --validate --model /opt/models/tensorflow/resnet50_baseline.pb --output_dir work --input_nodes data --output_nodes prob --c_input_nodes data --c_output_nodes prob --input_shapes ?,224,224,3\n",
    "\n",
    "```\n",
    "\n",
    "Result is like this:\n",
    "``` bash \n",
    "\n",
    "top1_acc:0.72, top5_acc:0.89\n",
    "\n",
    "```"
   ]
  },
  {
   "cell_type": "code",
   "execution_count": null,
   "metadata": {},
   "outputs": [],
   "source": []
  }
 ],
 "metadata": {
  "kernelspec": {
   "display_name": "Python 3",
   "language": "python",
   "name": "python3"
  },
  "language_info": {
   "codemirror_mode": {
    "name": "ipython",
    "version": 3
   },
   "file_extension": ".py",
   "mimetype": "text/x-python",
   "name": "python",
   "nbconvert_exporter": "python",
   "pygments_lexer": "ipython3",
   "version": "3.7.5"
  }
 },
 "nbformat": 4,
 "nbformat_minor": 2
}
