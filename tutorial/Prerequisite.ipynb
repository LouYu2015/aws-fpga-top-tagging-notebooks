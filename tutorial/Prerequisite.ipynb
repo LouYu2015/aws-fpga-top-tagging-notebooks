{
 "cells": [
  {
   "cell_type": "markdown",
   "metadata": {},
   "source": [
    "## Prerequisite\n",
    "### Dataset\n",
    "Full dataset(~ 25GB, from Eos on lxplus)\n",
    "```bash\n",
    "cp /eos/user/w/woodson/img224_all/img224_all.tar .\n",
    "```\n",
    "\n",
    "### Custom weights\n",
    "\n",
    "floating point: https://www.dropbox.com/sh/htjhdbaanp2yww2/AABcBx6MEg-73rK8X-ftPGVla?dl=0    \n",
    "quantized: https://www.dropbox.com/sh/1nt66wm8zllaca2/AABEYnx9npgU_suN0Mulbzdta?dl=0 \n",
    "\n",
    "### lib \n",
    "azureml-contrib-brainwave \n",
    "```bash\n",
    "pip install tensorflow==1.15\n",
    "pip install keras\n",
    "pip intsall tables\n",
    "pip install sklearn\n",
    "pip install matplotlib\n",
    "pip install azureml-contrib-brainwave\n",
    "```\n",
    "\n",
    "note: ResNet50 not longer used parameter 'custom_weights_directory'    \n",
    "see：https://docs.microsoft.com/en-us/python/api/azureml-accel-models/azureml.accel.models.resnet50?view=azure-ml-py      \n",
    "conflict with https://github.com/nhanvtran/MachineLearningNotebooks/blob/44aa70b61409be7ba7ccacd3f3232d2131e20dec/project-brainwave/utils.py#L130\n",
    "\n",
    "\n",
    "### Useful links\n",
    "project brainwave:     \n",
    "https://github.com/nhanvtran/MachineLearningNotebooks/tree/nvt/bwcustomweights-validate/project-brainwave \n",
    "\n",
    "notebooks from Tom:    \n",
    "https://github.com/LouYu2015/aws-fpga-top-tagging-notebooks\n",
    "\n",
    "Xilinx ML suite:\n",
    "https://github.com/Xilinx/ml-suite/tree/master/examples/tensorflow"
   ]
  },
  {
   "cell_type": "code",
   "execution_count": null,
   "metadata": {},
   "outputs": [],
   "source": []
  }
 ],
 "metadata": {
  "kernelspec": {
   "display_name": "Python 3",
   "language": "python",
   "name": "python3"
  },
  "language_info": {
   "codemirror_mode": {
    "name": "ipython",
    "version": 3
   },
   "file_extension": ".py",
   "mimetype": "text/x-python",
   "name": "python",
   "nbconvert_exporter": "python",
   "pygments_lexer": "ipython3",
   "version": "3.7.5"
  }
 },
 "nbformat": 4,
 "nbformat_minor": 2
}
